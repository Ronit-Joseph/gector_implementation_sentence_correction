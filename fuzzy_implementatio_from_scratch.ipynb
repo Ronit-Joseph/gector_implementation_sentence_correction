{
 "cells": [
  {
   "cell_type": "code",
   "execution_count": 2,
   "metadata": {},
   "outputs": [],
   "source": [
    "from fuzzywuzzy import fuzz\n",
    "from fuzzywuzzy import process"
   ]
  },
  {
   "cell_type": "code",
   "execution_count": 3,
   "metadata": {},
   "outputs": [],
   "source": [
    "def generate_output_dict(input_sentence, corrected_sentence):\n",
    "    output_dict_list = []\n",
    "    end_index = -2\n",
    "    i = 0\n",
    "    j = i\n",
    "    while i < len(input_sentence) and j<len(corrected_sentence):\n",
    "        original_word = input_sentence[i]\n",
    "        corrected_word = corrected_sentence[j]\n",
    "\n",
    "        if original_word.lower() == corrected_word.lower():\n",
    "            start_index = end_index + 2\n",
    "            end_index = start_index\n",
    "            end_index += len(corrected_word) \n",
    "            output_dict = {\n",
    "                'word': original_word,\n",
    "                'correction': corrected_word,\n",
    "                'start_index': start_index,\n",
    "                'end_index': end_index,\n",
    "            }\n",
    "            if(original_word != corrected_word):\n",
    "                output_dict_list.append(output_dict)\n",
    "            i += 1\n",
    "            j += 1\n",
    "            continue\n",
    "        \n",
    "        # Check up to 3 tokens in the corrected sentence for correction\n",
    "        correction_tokens = []\n",
    "        k = j+3\n",
    "        while j < min(k, len(corrected_sentence)):\n",
    "            correction_tokens.append(corrected_sentence[j])\n",
    "            similarity_ratio = fuzz.ratio(original_word.lower(), corrected_sentence[j].lower())\n",
    "            if similarity_ratio > 80:\n",
    "                j += 1\n",
    "                break\n",
    "            j += 1\n",
    "            \n",
    "\n",
    "        correction = ' '.join(correction_tokens) if any(correction_tokens) else None\n",
    "\n",
    "        start_index = end_index\n",
    "        end_index = start_index + len(correction)\n",
    "\n",
    "        output_dict = {\n",
    "            'word': original_word,\n",
    "            'correction': correction,\n",
    "            'start_index': start_index,\n",
    "            'end_index': end_index,\n",
    "        }\n",
    "        output_dict_list.append(output_dict)\n",
    "\n",
    "        i += 1\n",
    "\n",
    "    # while(i<len(input_sentence)):\n",
    "        \n",
    "    return output_dict_list\n",
    "\n"
   ]
  },
  {
   "cell_type": "code",
   "execution_count": 4,
   "metadata": {},
   "outputs": [
    {
     "name": "stdout",
     "output_type": "stream",
     "text": [
      "{'word': 'hey', 'correction': 'Hey', 'start_index': 0, 'end_index': 3}\n",
      "{'word': 'hows', 'correction': ', how', 'start_index': 9, 'end_index': 14}\n",
      "{'word': 'it', 'correction': 'is it', 'start_index': 14, 'end_index': 19}\n",
      "{'word': 'my', 'correction': '? My', 'start_index': 26, 'end_index': 30}\n",
      "{'word': 'names', 'correction': 'name', 'start_index': 30, 'end_index': 34}\n",
      "{'word': 'george', 'correction': 'is George', 'start_index': 34, 'end_index': 43}\n"
     ]
    }
   ],
   "source": [
    "input_sentence = ['hey', 'guys', 'hows', 'it', 'going', 'my', 'names', 'george']\n",
    "#input_sentence = ['He', 'go', 'to', 'the', 'store', 'yesterday.']\n",
    "\n",
    "corrected_sentence = ['Hey', 'guys', ',', 'how', 'is', 'it', 'going', '?', 'My', 'name', 'is', 'George']\n",
    "#corrected_sentence = ['He', 'went', 'to', 'the', 'store', 'yesterday.']\n",
    "\n",
    "output_dict_list = generate_output_dict(input_sentence, corrected_sentence)\n",
    "\n",
    "# Print the output\n",
    "for output_dict in output_dict_list:\n",
    "    print(output_dict)"
   ]
  },
  {
   "cell_type": "code",
   "execution_count": null,
   "metadata": {},
   "outputs": [],
   "source": []
  }
 ],
 "metadata": {
  "kernelspec": {
   "display_name": "gector_env",
   "language": "python",
   "name": "python3"
  },
  "language_info": {
   "codemirror_mode": {
    "name": "ipython",
    "version": 3
   },
   "file_extension": ".py",
   "mimetype": "text/x-python",
   "name": "python",
   "nbconvert_exporter": "python",
   "pygments_lexer": "ipython3",
   "version": "3.7.16"
  },
  "orig_nbformat": 4
 },
 "nbformat": 4,
 "nbformat_minor": 2
}
